{
 "cells": [
  {
   "cell_type": "code",
   "execution_count": 1,
   "metadata": {},
   "outputs": [],
   "source": [
    "#to enable speech recognition\n",
    "import speech_recognition as sp"
   ]
  },
  {
   "cell_type": "code",
   "execution_count": 9,
   "metadata": {},
   "outputs": [
    {
     "name": "stdout",
     "output_type": "stream",
     "text": [
      "Collecting package metadata (current_repodata.json): ...working... done\n",
      "Solving environment: ...working... done\n",
      "Note: you may need to restart the kernel to use updated packages.\n",
      "\n",
      "\n",
      "## Package Plan ##\n",
      "\n",
      "  environment location: C:\\Users\\madhumitha\\anaconda3\n",
      "\n",
      "  added / updated specs:\n",
      "    - pyaudio\n",
      "\n",
      "\n",
      "The following packages will be downloaded:\n",
      "\n",
      "    package                    |            build\n",
      "    ---------------------------|-----------------\n",
      "    conda-4.10.1               |   py38haa95532_1         2.9 MB\n",
      "    portaudio-19.6.0           |       he774522_4         202 KB\n",
      "    pyaudio-0.2.11             |   py38he774522_2         206 KB\n",
      "    ------------------------------------------------------------\n",
      "                                           Total:         3.3 MB\n",
      "\n",
      "The following NEW packages will be INSTALLED:\n",
      "\n",
      "  portaudio          pkgs/main/win-64::portaudio-19.6.0-he774522_4\n",
      "  pyaudio            pkgs/main/win-64::pyaudio-0.2.11-py38he774522_2\n",
      "\n",
      "The following packages will be UPDATED:\n",
      "\n",
      "  conda                                4.9.2-py38haa95532_0 --> 4.10.1-py38haa95532_1\n",
      "\n",
      "\n",
      "\n",
      "Downloading and Extracting Packages\n",
      "\n",
      "portaudio-19.6.0     | 202 KB    |            |   0% \n",
      "portaudio-19.6.0     | 202 KB    | 7          |   8% \n",
      "portaudio-19.6.0     | 202 KB    | ########## | 100% \n",
      "portaudio-19.6.0     | 202 KB    | ########## | 100% \n",
      "\n",
      "pyaudio-0.2.11       | 206 KB    |            |   0% \n",
      "pyaudio-0.2.11       | 206 KB    | ######2    |  62% \n",
      "pyaudio-0.2.11       | 206 KB    | ########## | 100% \n",
      "pyaudio-0.2.11       | 206 KB    | ########## | 100% \n",
      "\n",
      "conda-4.10.1         | 2.9 MB    |            |   0% \n",
      "conda-4.10.1         | 2.9 MB    | 9          |   9% \n",
      "conda-4.10.1         | 2.9 MB    | ####5      |  45% \n",
      "conda-4.10.1         | 2.9 MB    | #######6   |  76% \n",
      "conda-4.10.1         | 2.9 MB    | ########## | 100% \n",
      "conda-4.10.1         | 2.9 MB    | ########## | 100% \n",
      "Preparing transaction: ...working... done\n",
      "Verifying transaction: ...working... done\n",
      "Executing transaction: ...working... done\n"
     ]
    }
   ],
   "source": [
    "#to enable speech to text conversion\n",
    "conda install pyaudio"
   ]
  },
  {
   "cell_type": "code",
   "execution_count": 35,
   "metadata": {},
   "outputs": [
    {
     "name": "stdout",
     "output_type": "stream",
     "text": [
      "Collecting moviepyNote: you may need to restart the kernel to use updated packages.\n",
      "\n",
      "  Downloading moviepy-1.0.3.tar.gz (388 kB)\n",
      "Requirement already satisfied: decorator<5.0,>=4.0.2 in c:\\users\\madhumitha\\anaconda3\\lib\\site-packages (from moviepy) (4.4.2)\n",
      "Requirement already satisfied: tqdm<5.0,>=4.11.2 in c:\\users\\madhumitha\\anaconda3\\lib\\site-packages (from moviepy) (4.47.0)\n",
      "Requirement already satisfied: requests<3.0,>=2.8.1 in c:\\users\\madhumitha\\anaconda3\\lib\\site-packages (from moviepy) (2.24.0)\n",
      "Collecting proglog<=1.0.0\n",
      "  Downloading proglog-0.1.9.tar.gz (10 kB)\n",
      "Requirement already satisfied: numpy>=1.17.3 in c:\\users\\madhumitha\\anaconda3\\lib\\site-packages (from moviepy) (1.18.5)\n",
      "Requirement already satisfied: imageio<3.0,>=2.5 in c:\\users\\madhumitha\\anaconda3\\lib\\site-packages (from moviepy) (2.9.0)\n",
      "Collecting imageio_ffmpeg>=0.2.0\n",
      "  Downloading imageio_ffmpeg-0.4.4-py3-none-win_amd64.whl (22.6 MB)\n",
      "Requirement already satisfied: chardet<4,>=3.0.2 in c:\\users\\madhumitha\\anaconda3\\lib\\site-packages (from requests<3.0,>=2.8.1->moviepy) (3.0.4)\n",
      "Requirement already satisfied: idna<3,>=2.5 in c:\\users\\madhumitha\\anaconda3\\lib\\site-packages (from requests<3.0,>=2.8.1->moviepy) (2.10)\n",
      "Requirement already satisfied: urllib3!=1.25.0,!=1.25.1,<1.26,>=1.21.1 in c:\\users\\madhumitha\\anaconda3\\lib\\site-packages (from requests<3.0,>=2.8.1->moviepy) (1.25.9)\n",
      "Requirement already satisfied: certifi>=2017.4.17 in c:\\users\\madhumitha\\anaconda3\\lib\\site-packages (from requests<3.0,>=2.8.1->moviepy) (2020.6.20)\n",
      "Requirement already satisfied: pillow in c:\\users\\madhumitha\\anaconda3\\lib\\site-packages (from imageio<3.0,>=2.5->moviepy) (7.2.0)\n",
      "Building wheels for collected packages: moviepy, proglog\n",
      "  Building wheel for moviepy (setup.py): started\n",
      "  Building wheel for moviepy (setup.py): finished with status 'done'\n",
      "  Created wheel for moviepy: filename=moviepy-1.0.3-py3-none-any.whl size=110732 sha256=ae4eeaaa27c24086c6a785fe911ed3d7c4e79ddfdac4f97685910de128c54395\n",
      "  Stored in directory: c:\\users\\madhumitha\\appdata\\local\\pip\\cache\\wheels\\e4\\a4\\db\\0368d3a04033da662e13926594b3a8cf1aa4ffeefe570cfac1\n",
      "  Building wheel for proglog (setup.py): started\n",
      "  Building wheel for proglog (setup.py): finished with status 'done'\n",
      "  Created wheel for proglog: filename=proglog-0.1.9-py3-none-any.whl size=6153 sha256=0d81c4556022b8c431f035781c6444f0d5d2c21b9921ce1d552bfdcdb9109d64\n",
      "  Stored in directory: c:\\users\\madhumitha\\appdata\\local\\pip\\cache\\wheels\\22\\82\\ff\\56950e4b223a69eda3a2bdeaef2ae4b274c3d1ced9b5814c99\n",
      "Successfully built moviepy proglog\n",
      "Installing collected packages: proglog, imageio-ffmpeg, moviepy\n",
      "Successfully installed imageio-ffmpeg-0.4.4 moviepy-1.0.3 proglog-0.1.9\n"
     ]
    }
   ],
   "source": [
    "#for extracting the audio and video\n",
    "pip install moviepy"
   ]
  },
  {
   "cell_type": "code",
   "execution_count": null,
   "metadata": {},
   "outputs": [],
   "source": []
  },
  {
   "cell_type": "code",
   "execution_count": 2,
   "metadata": {},
   "outputs": [
    {
     "data": {
      "text/plain": [
       "'PROBLEM STATEMENT 1: Extract audio and video separately from a news video file\\nSOLUTION is given in the next three cells'"
      ]
     },
     "execution_count": 2,
     "metadata": {},
     "output_type": "execute_result"
    }
   ],
   "source": [
    "'''PROBLEM STATEMENT 1: Extract audio and video separately from a news video file\n",
    "SOLUTION is given in the next three cells'''"
   ]
  },
  {
   "cell_type": "code",
   "execution_count": 3,
   "metadata": {},
   "outputs": [],
   "source": [
    "import moviepy\n",
    "import moviepy.editor\n",
    "#reading the video file\n",
    "video = moviepy.editor.VideoFileClip(\"C:\\\\Users\\\\madhumitha\\\\Downloads\\\\sample_news_video.mp4\")"
   ]
  },
  {
   "cell_type": "code",
   "execution_count": 4,
   "metadata": {},
   "outputs": [
    {
     "name": "stderr",
     "output_type": "stream",
     "text": [
      "chunk:   0%|                                                                         | 0/310 [00:00<?, ?it/s, now=None]"
     ]
    },
    {
     "name": "stdout",
     "output_type": "stream",
     "text": [
      "MoviePy - Writing audio in C:\\Users\\madhumitha\\Downloads\\Converted_audio_video_separate\\audio_alone.mp3\n"
     ]
    },
    {
     "name": "stderr",
     "output_type": "stream",
     "text": [
      "                                                                                                                       "
     ]
    },
    {
     "name": "stdout",
     "output_type": "stream",
     "text": [
      "MoviePy - Done.\n"
     ]
    },
    {
     "name": "stderr",
     "output_type": "stream",
     "text": [
      "\r"
     ]
    }
   ],
   "source": [
    "#taking the audio separately\n",
    "audio = video.audio\n",
    "#audio alone gets extracted and gets saved in the location, it creates a file named \"audio_alone.mp3\" \n",
    "audio.write_audiofile(\"C:\\\\Users\\\\madhumitha\\\\Downloads\\\\Converted_audio_video_separate\\\\audio_alone.mp3\")"
   ]
  },
  {
   "cell_type": "code",
   "execution_count": 5,
   "metadata": {},
   "outputs": [
    {
     "name": "stderr",
     "output_type": "stream",
     "text": [
      "t:   0%|                                                                             | 0/351 [00:00<?, ?it/s, now=None]"
     ]
    },
    {
     "name": "stdout",
     "output_type": "stream",
     "text": [
      "Moviepy - Building video C:\\Users\\madhumitha\\Downloads\\Converted_audio_video_separate\\video_alone.mp4.\n",
      "Moviepy - Writing video C:\\Users\\madhumitha\\Downloads\\Converted_audio_video_separate\\video_alone.mp4\n",
      "\n"
     ]
    },
    {
     "name": "stderr",
     "output_type": "stream",
     "text": [
      "                                                                                                                       \r"
     ]
    },
    {
     "name": "stdout",
     "output_type": "stream",
     "text": [
      "Moviepy - Done !\n",
      "Moviepy - video ready C:\\Users\\madhumitha\\Downloads\\Converted_audio_video_separate\\video_alone.mp4\n"
     ]
    }
   ],
   "source": [
    "#video alone gets extracted and gets saved in the location, it creates a file named \"video_alone.mp4\" \n",
    "video_extract = video.without_audio()\n",
    "video_extract.write_videofile(\"C:\\\\Users\\\\madhumitha\\\\Downloads\\\\Converted_audio_video_separate\\\\video_alone.mp4\")"
   ]
  },
  {
   "cell_type": "code",
   "execution_count": null,
   "metadata": {},
   "outputs": [],
   "source": []
  },
  {
   "cell_type": "code",
   "execution_count": 6,
   "metadata": {},
   "outputs": [
    {
     "data": {
      "text/plain": [
       "'PROBLEM STATEMENT 2: Convert audio speech into text\\nSOLUTION is given in the next two cells'"
      ]
     },
     "execution_count": 6,
     "metadata": {},
     "output_type": "execute_result"
    }
   ],
   "source": [
    "'''PROBLEM STATEMENT 2: Convert audio speech into text\n",
    "SOLUTION is given in the next two cells'''"
   ]
  },
  {
   "cell_type": "code",
   "execution_count": 7,
   "metadata": {},
   "outputs": [
    {
     "name": "stdout",
     "output_type": "stream",
     "text": [
      "You can speak now\n",
      "Yes..listened\n",
      "Text: hello this is Madhumita\n"
     ]
    }
   ],
   "source": [
    "#to create an object for the Recognizer class\n",
    "r=sp.Recognizer() \n",
    "with sp.Microphone() as source:\n",
    "    print(\"You can speak now\")\n",
    "    a=r.record(source,duration=5) #waits for 5 secs. If not given, it will wait infinitely to listen to the sound.\n",
    "    print(\"Yes..listened\")\n",
    "    \n",
    "#try&except is used, so as to prevent the error if it is not able to recognize meaningful sentence\n",
    "try:\n",
    "    print(\"Text: \"+r.recognize_google(a)) \n",
    "except:\n",
    "    print(\"Sorry..Could not get it\")\n",
    "    #text = r.recognize_google(a)\n",
    "    #print(text)"
   ]
  },
  {
   "cell_type": "code",
   "execution_count": 8,
   "metadata": {
    "scrolled": true
   },
   "outputs": [
    {
     "name": "stdout",
     "output_type": "stream",
     "text": [
      "You can speak now\n",
      "Yes..listened\n",
      "Text: the still smell of old beer drinkers it takes hi to bring out the order I called it yourself invest a salt a kotess find the M tacos Al pastor my favourite is just for food is Bihar cross bun\n"
     ]
    }
   ],
   "source": [
    "#to read from a file and convert to text\n",
    "#I have chosen a sample audio file that has comparitively clear speech so as to avoid discrepancy in identifying it\n",
    "with sp.AudioFile(\"C:\\\\Users\\\\madhumitha\\\\Downloads\\\\sample_audio.wav\") as source:\n",
    "    print(\"You can speak now\")\n",
    "    a=r.record(source)\n",
    "    print(\"Yes..listened\")\n",
    "    \n",
    "#try&except is used, so as to prevent the error if it is not able to recognize meaningful sentence\n",
    "try:\n",
    "    print(\"Text: \"+r.recognize_google(a)) \n",
    "except:\n",
    "    print(\"Sorry..Could not get it\")"
   ]
  },
  {
   "cell_type": "code",
   "execution_count": null,
   "metadata": {},
   "outputs": [],
   "source": []
  },
  {
   "cell_type": "code",
   "execution_count": 9,
   "metadata": {},
   "outputs": [
    {
     "data": {
      "text/plain": [
       "'PROBLEM STATEMENT 3: Fetch entities from text\\nSOLUTION is given in the next few cells'"
      ]
     },
     "execution_count": 9,
     "metadata": {},
     "output_type": "execute_result"
    }
   ],
   "source": [
    "'''PROBLEM STATEMENT 3: Fetch entities from text\n",
    "SOLUTION is given in the next few cells'''"
   ]
  },
  {
   "cell_type": "code",
   "execution_count": 10,
   "metadata": {},
   "outputs": [],
   "source": [
    "#Entity in a text means the identification of different parts of speech. This is a basic step in NLP"
   ]
  },
  {
   "cell_type": "code",
   "execution_count": 11,
   "metadata": {},
   "outputs": [],
   "source": [
    "import nltk"
   ]
  },
  {
   "cell_type": "code",
   "execution_count": 12,
   "metadata": {},
   "outputs": [],
   "source": [
    "#this is a sample paragraph containing three sentences\n",
    "sample = \"This is a sample project done to identify the named entities from any paragraph. Done for Zee media corporation. Done by Madhumitha\""
   ]
  },
  {
   "cell_type": "code",
   "execution_count": 13,
   "metadata": {},
   "outputs": [
    {
     "name": "stderr",
     "output_type": "stream",
     "text": [
      "[nltk_data] Downloading package punkt to\n",
      "[nltk_data]     C:\\Users\\madhumitha\\AppData\\Roaming\\nltk_data...\n",
      "[nltk_data]   Package punkt is already up-to-date!\n"
     ]
    },
    {
     "data": {
      "text/plain": [
       "True"
      ]
     },
     "execution_count": 13,
     "metadata": {},
     "output_type": "execute_result"
    }
   ],
   "source": [
    "nltk.download('punkt')"
   ]
  },
  {
   "cell_type": "code",
   "execution_count": 14,
   "metadata": {},
   "outputs": [
    {
     "data": {
      "text/plain": [
       "['This is a sample project done to identify the named entities from any paragraph.',\n",
       " 'Done for Zee media corporation.',\n",
       " 'Done by Madhumitha']"
      ]
     },
     "execution_count": 14,
     "metadata": {},
     "output_type": "execute_result"
    }
   ],
   "source": [
    "#this is one form of tokenization which can separate sentences\n",
    "sentences = nltk.sent_tokenize(sample)\n",
    "sentences"
   ]
  },
  {
   "cell_type": "code",
   "execution_count": 15,
   "metadata": {},
   "outputs": [
    {
     "data": {
      "text/plain": [
       "['This',\n",
       " 'is',\n",
       " 'a',\n",
       " 'sample',\n",
       " 'project',\n",
       " 'done',\n",
       " 'to',\n",
       " 'identify',\n",
       " 'the',\n",
       " 'named',\n",
       " 'entities',\n",
       " 'from',\n",
       " 'any',\n",
       " 'paragraph',\n",
       " '.',\n",
       " 'Done',\n",
       " 'for',\n",
       " 'Zee',\n",
       " 'media',\n",
       " 'corporation',\n",
       " '.',\n",
       " 'Done',\n",
       " 'by',\n",
       " 'Madhumitha']"
      ]
     },
     "execution_count": 15,
     "metadata": {},
     "output_type": "execute_result"
    }
   ],
   "source": [
    "#this is to tokenize the words\n",
    "tokens = nltk.word_tokenize(sample)\n",
    "tokens"
   ]
  },
  {
   "cell_type": "code",
   "execution_count": 16,
   "metadata": {},
   "outputs": [
    {
     "name": "stderr",
     "output_type": "stream",
     "text": [
      "[nltk_data] Downloading package averaged_perceptron_tagger to\n",
      "[nltk_data]     C:\\Users\\madhumitha\\AppData\\Roaming\\nltk_data...\n",
      "[nltk_data]   Package averaged_perceptron_tagger is already up-to-\n",
      "[nltk_data]       date!\n"
     ]
    },
    {
     "data": {
      "text/plain": [
       "True"
      ]
     },
     "execution_count": 16,
     "metadata": {},
     "output_type": "execute_result"
    }
   ],
   "source": [
    "#the download needed for pos_tag function\n",
    "nltk.download('averaged_perceptron_tagger')"
   ]
  },
  {
   "cell_type": "code",
   "execution_count": 17,
   "metadata": {},
   "outputs": [
    {
     "name": "stdout",
     "output_type": "stream",
     "text": [
      "[('This', 'DT'), ('is', 'VBZ'), ('a', 'DT'), ('sample', 'NN'), ('project', 'NN'), ('done', 'VBN'), ('to', 'TO'), ('identify', 'VB'), ('the', 'DT'), ('named', 'JJ'), ('entities', 'NNS'), ('from', 'IN'), ('any', 'DT'), ('paragraph', 'NN'), ('.', '.'), ('Done', 'NN'), ('for', 'IN'), ('Zee', 'NNP'), ('media', 'NNS'), ('corporation', 'NN'), ('.', '.'), ('Done', 'NN'), ('by', 'IN'), ('Madhumitha', 'NNP')]\n"
     ]
    }
   ],
   "source": [
    "from nltk import pos_tag\n",
    "pos_tags = pos_tag(tokens)\n",
    "print(pos_tags)"
   ]
  },
  {
   "cell_type": "code",
   "execution_count": 18,
   "metadata": {},
   "outputs": [
    {
     "data": {
      "text/plain": [
       "'In the above cell, we can see that the given paragraph was tokenized and then using PARTS OF SPEECH library we have \\nobtained the named entities for each word in the paragraph'"
      ]
     },
     "execution_count": 18,
     "metadata": {},
     "output_type": "execute_result"
    }
   ],
   "source": [
    "'''In the above cell, we can see that the given paragraph was tokenized and then using PARTS OF SPEECH library we have \n",
    "obtained the named entities for each word in the paragraph'''"
   ]
  },
  {
   "cell_type": "code",
   "execution_count": 19,
   "metadata": {},
   "outputs": [
    {
     "name": "stderr",
     "output_type": "stream",
     "text": [
      "[nltk_data] Downloading package maxent_ne_chunker to\n",
      "[nltk_data]     C:\\Users\\madhumitha\\AppData\\Roaming\\nltk_data...\n",
      "[nltk_data]   Package maxent_ne_chunker is already up-to-date!\n"
     ]
    },
    {
     "data": {
      "text/plain": [
       "True"
      ]
     },
     "execution_count": 19,
     "metadata": {},
     "output_type": "execute_result"
    }
   ],
   "source": [
    "#library needed for ne_chunk to work\n",
    "nltk.download('maxent_ne_chunker')"
   ]
  },
  {
   "cell_type": "code",
   "execution_count": 20,
   "metadata": {
    "scrolled": true
   },
   "outputs": [
    {
     "name": "stdout",
     "output_type": "stream",
     "text": [
      "(S\n",
      "  This/DT\n",
      "  is/VBZ\n",
      "  a/DT\n",
      "  sample/NN\n",
      "  project/NN\n",
      "  done/VBN\n",
      "  to/TO\n",
      "  identify/VB\n",
      "  the/DT\n",
      "  named/JJ\n",
      "  entities/NNS\n",
      "  from/IN\n",
      "  any/DT\n",
      "  paragraph/NN\n",
      "  ./.\n",
      "  Done/NN\n",
      "  for/IN\n",
      "  (ORGANIZATION Zee/NNP)\n",
      "  media/NNS\n",
      "  corporation/NN\n",
      "  ./.\n",
      "  Done/NN\n",
      "  by/IN\n",
      "  (PERSON Madhumitha/NNP))\n"
     ]
    }
   ],
   "source": [
    "#to find a tree like structure for the named entities\n",
    "from nltk import ne_chunk\n",
    "NamedEntities = ne_chunk(pos_tags)\n",
    "print(NamedEntities)"
   ]
  },
  {
   "cell_type": "code",
   "execution_count": 21,
   "metadata": {},
   "outputs": [
    {
     "data": {
      "text/plain": [
       "'In the above cell, we see that Zee is classifies as organisation and my name has come under person category'"
      ]
     },
     "execution_count": 21,
     "metadata": {},
     "output_type": "execute_result"
    }
   ],
   "source": [
    "'''In the above cell, we see that Zee is classifies as organisation and my name has come under person category'''"
   ]
  }
 ],
 "metadata": {
  "kernelspec": {
   "display_name": "Python 3",
   "language": "python",
   "name": "python3"
  },
  "language_info": {
   "codemirror_mode": {
    "name": "ipython",
    "version": 3
   },
   "file_extension": ".py",
   "mimetype": "text/x-python",
   "name": "python",
   "nbconvert_exporter": "python",
   "pygments_lexer": "ipython3",
   "version": "3.8.3"
  }
 },
 "nbformat": 4,
 "nbformat_minor": 4
}
